{
  "cells": [
    {
      "cell_type": "markdown",
      "metadata": {
        "id": "LnPbntVRnfvV"
      },
      "source": [
        "Importing the Dependencies"
      ]
    },
    {
      "cell_type": "code",
      "execution_count": null,
      "metadata": {
        "id": "-71UtHzNVWjB"
      },
      "outputs": [],
      "source": [
        "import numpy as np\n",
        "import pandas as pd\n",
        "from sklearn.model_selection import train_test_split\n",
        "from sklearn import svm\n",
        "from sklearn.linear_model import LogisticRegression\n",
        "from sklearn.tree import DecisionTreeClassifier\n",
        "from sklearn.ensemble import RandomForestClassifier\n",
        "\n",
        "from sklearn.metrics import  accuracy_score, f1_score, precision_score, recall_score, roc_auc_score\n",
        "from sklearn.metrics import confusion_matrix"
      ]
    },
    {
      "cell_type": "markdown",
      "metadata": {
        "id": "bmfOfG8joBBy"
      },
      "source": [
        "Data Collection and Analysis\n",
        "\n",
        "Heart Disease Dataset"
      ]
    },
    {
      "cell_type": "code",
      "execution_count": null,
      "metadata": {
        "id": "Xpw6Mj_pn_TL"
      },
      "outputs": [],
      "source": [
        "# loading the diabetes dataset to a pandas DataFrame\n",
        "heart_dataset = pd.read_csv('/content/heart.csv')"
      ]
    },
    {
      "cell_type": "code",
      "execution_count": null,
      "metadata": {
        "colab": {
          "base_uri": "https://localhost:8080/",
          "height": 206
        },
        "id": "-tjO09ncovoh",
        "outputId": "fe1e2d61-d8c0-4c99-86d4-f510fbfdc553"
      },
      "outputs": [],
      "source": [
        "# printing the first 5 rows of the dataset\n",
        "heart_dataset.head()"
      ]
    },
    {
      "cell_type": "code",
      "execution_count": null,
      "metadata": {
        "colab": {
          "base_uri": "https://localhost:8080/"
        },
        "id": "lynParo6pEMB",
        "outputId": "c3df441d-7189-4df4-8b32-620cc5ada4f4"
      },
      "outputs": [],
      "source": [
        "# number of rows and Columns in this dataset\n",
        "heart_dataset.shape"
      ]
    },
    {
      "cell_type": "code",
      "execution_count": null,
      "metadata": {
        "colab": {
          "base_uri": "https://localhost:8080/",
          "height": 320
        },
        "id": "3NDJOlrEpmoL",
        "outputId": "e0b5d55d-7c2e-4db3-eb4e-06f4c6f41a71"
      },
      "outputs": [],
      "source": [
        "# getting the statistical measures of the data\n",
        "heart_dataset.describe()"
      ]
    },
    {
      "cell_type": "code",
      "execution_count": null,
      "metadata": {
        "colab": {
          "base_uri": "https://localhost:8080/"
        },
        "id": "LrpHzaGpp5dQ",
        "outputId": "4b5cdf11-386f-41e6-843a-6ee1788a92ed"
      },
      "outputs": [],
      "source": [
        "heart_dataset['target'].value_counts()"
      ]
    },
    {
      "cell_type": "markdown",
      "metadata": {
        "id": "cB1qRaNcqeh5"
      },
      "source": [
        "0 --> No Heart Disease\n",
        "\n",
        "1 --> Heart Disease"
      ]
    },
    {
      "cell_type": "code",
      "execution_count": null,
      "metadata": {
        "colab": {
          "base_uri": "https://localhost:8080/",
          "height": 143
        },
        "id": "I6MWR0k_qSCK",
        "outputId": "3621a905-d6fd-434d-e50c-0e4a4862c1e0"
      },
      "outputs": [],
      "source": [
        "heart_dataset.groupby('target').mean()"
      ]
    },
    {
      "cell_type": "code",
      "execution_count": null,
      "metadata": {
        "id": "RoDW7l9mqqHZ"
      },
      "outputs": [],
      "source": [
        "# separating the data and labels\n",
        "X = heart_dataset.drop(columns = 'target', axis=1)\n",
        "Y = heart_dataset['target']"
      ]
    },
    {
      "cell_type": "code",
      "execution_count": null,
      "metadata": {
        "colab": {
          "base_uri": "https://localhost:8080/"
        },
        "id": "3eiRW9M9raMm",
        "outputId": "80ec7364-0c77-4abe-f500-2c4125a68033"
      },
      "outputs": [],
      "source": [
        "print(X)"
      ]
    },
    {
      "cell_type": "code",
      "execution_count": null,
      "metadata": {
        "colab": {
          "base_uri": "https://localhost:8080/"
        },
        "id": "AoxgTJAMrcCl",
        "outputId": "45661d5f-c3f0-4a0a-e39f-9cc093d63776"
      },
      "outputs": [],
      "source": [
        "print(Y)"
      ]
    },
    {
      "cell_type": "markdown",
      "metadata": {
        "id": "gHciEFkxsoQP"
      },
      "source": [
        "Train Test SplitS\n",
        "\n"
      ]
    },
    {
      "cell_type": "code",
      "execution_count": null,
      "metadata": {
        "id": "AEfKGj_yslvD"
      },
      "outputs": [],
      "source": [
        "X_train1, X_test1, Y_train1, Y_test1 = train_test_split(X, Y, test_size=0.2, stratify=Y, random_state=2)\n",
        "\n",
        "# Splitting into 75% train and 25% test\n",
        "X_train2, X_test2, Y_train2, Y_test2 = train_test_split(X, Y, test_size=0.25, stratify=Y, random_state=2)\n",
        "\n",
        "# Splitting into 70% train and 30% test\n",
        "X_train3, X_test3, Y_train3, Y_test3 = train_test_split(X, Y, test_size=0.3, stratify=Y, random_state=2)\n",
        "\n",
        "# Splitting into 60% train and 40% test\n",
        "X_train4, X_test4, Y_train4, Y_test4 = train_test_split(X, Y, test_size=0.4, stratify=Y, random_state=2)\n",
        "\n",
        "# Splitting into 90% train and 10% test\n",
        "X_train5, X_test5, Y_train5, Y_test5 = train_test_split(X, Y, test_size=0.1, stratify=Y, random_state=2)\n",
        "\n",
        "# Splitting into 50% train and 50% test\n",
        "X_train6, X_test6, Y_train6, Y_test6 = train_test_split(X, Y, test_size=0.5, stratify=Y, random_state=2)\n"
      ]
    },
    {
      "cell_type": "code",
      "execution_count": null,
      "metadata": {
        "colab": {
          "base_uri": "https://localhost:8080/"
        },
        "id": "DR05T-o0t3FQ",
        "outputId": "83efd3d5-5de7-450f-9a9f-c4e3f2c0bf51"
      },
      "outputs": [],
      "source": [
        "print(X.shape, X_train1.shape, X_test1.shape)\n",
        "print(X.shape, X_train2.shape, X_test2.shape)\n",
        "print(X.shape, X_train3.shape, X_test3.shape)"
      ]
    },
    {
      "cell_type": "markdown",
      "metadata": {
        "id": "ElJ3tkOtuC_n"
      },
      "source": [
        "Training the Model"
      ]
    },
    {
      "cell_type": "code",
      "execution_count": null,
      "metadata": {
        "id": "5szLWHlNt9xc"
      },
      "outputs": [],
      "source": [
        "#training the all four classifiers\n",
        "def result(X_train, X_test, Y_train, Y_test):\n",
        "  svmmodel = svm.SVC(kernel='linear')\n",
        "  svmmodel.fit(X_train, Y_train)\n",
        "  logmodel = LogisticRegression(random_state=1)\n",
        "  logmodel.fit(X_train, Y_train)\n",
        "  dctmodel = DecisionTreeClassifier(criterion = 'entropy',random_state = 0)\n",
        "  dctmodel.fit(X_train, Y_train)\n",
        "  rfcmodel = RandomForestClassifier(n_estimators = 100,criterion = 'entropy',random_state = 0)\n",
        "  rfcmodel.fit(X_train, Y_train)\n",
        "  y_pred_svm = svmmodel.predict(X_test)\n",
        "  y_pred_log=logmodel.predict(X_test)\n",
        "  y_pred_dct=dctmodel.predict(X_test)\n",
        "  y_pred_rfc=rfcmodel.predict(X_test)\n",
        "  metrics_svm = {\n",
        "      'Model': 'SVM',\n",
        "      'Accuracy': accuracy_score(Y_test, y_pred_svm),\n",
        "      'Precision': precision_score(Y_test, y_pred_svm),\n",
        "      'Recall': recall_score(Y_test, y_pred_svm),\n",
        "      'F1 Score': f1_score(Y_test, y_pred_svm),\n",
        "      'ROC': roc_auc_score(Y_test, y_pred_svm)\n",
        "  }\n",
        "\n",
        "  metrics_log = {\n",
        "      'Model': 'Logistic Regression',\n",
        "      'Accuracy': accuracy_score(Y_test, y_pred_log),\n",
        "      'Precision': precision_score(Y_test, y_pred_log),\n",
        "      'Recall': recall_score(Y_test, y_pred_log),\n",
        "      'F1 Score': f1_score(Y_test, y_pred_log),\n",
        "      'ROC': roc_auc_score(Y_test, y_pred_log)\n",
        "  }\n",
        "\n",
        "  metrics_dct = {\n",
        "      'Model': 'Decision Tree',\n",
        "      'Accuracy': accuracy_score(Y_test, y_pred_dct),\n",
        "      'Precision': precision_score(Y_test, y_pred_dct),\n",
        "      'Recall': recall_score(Y_test, y_pred_dct),\n",
        "      'F1 Score': f1_score(Y_test, y_pred_dct),\n",
        "      'ROC': roc_auc_score(Y_test, y_pred_dct)\n",
        "  }\n",
        "\n",
        "  metrics_rfc = {\n",
        "      'Model': 'Random Forest',\n",
        "      'Accuracy': accuracy_score(Y_test, y_pred_rfc),\n",
        "      'Precision': precision_score(Y_test, y_pred_rfc),\n",
        "      'Recall': recall_score(Y_test, y_pred_rfc),\n",
        "      'F1 Score': f1_score(Y_test, y_pred_rfc),\n",
        "      'ROC': roc_auc_score(Y_test, y_pred_rfc)\n",
        "  }\n",
        "\n",
        "  model_metrics = pd.DataFrame([metrics_svm, metrics_log, metrics_dct, metrics_rfc])\n",
        "\n",
        "  print(model_metrics)\n",
        "\n"
      ]
    },
    {
      "cell_type": "markdown",
      "metadata": {
        "id": "UV4-CAfquiyP"
      },
      "source": [
        "Model Evaluation"
      ]
    },
    {
      "cell_type": "markdown",
      "metadata": {
        "id": "yhAjGPJWunXa"
      },
      "source": [
        "Accuracy Score"
      ]
    },
    {
      "cell_type": "code",
      "execution_count": null,
      "metadata": {
        "colab": {
          "base_uri": "https://localhost:8080/"
        },
        "id": "CWKAFlfG1kD2",
        "outputId": "18acaa30-7710-4e83-c3e7-45251f5fcbe3"
      },
      "outputs": [],
      "source": [
        "result(X_train1, X_test1, Y_train1, Y_test1)"
      ]
    },
    {
      "cell_type": "code",
      "execution_count": null,
      "metadata": {
        "colab": {
          "base_uri": "https://localhost:8080/"
        },
        "id": "o6IqbbkaA9w1",
        "outputId": "86ce3e56-5a04-4e4a-f15b-fb1adb5e4285"
      },
      "outputs": [],
      "source": [
        "result(X_train2, X_test2, Y_train2, Y_test2)"
      ]
    },
    {
      "cell_type": "code",
      "execution_count": null,
      "metadata": {
        "colab": {
          "base_uri": "https://localhost:8080/"
        },
        "id": "vABnV_5bA8pX",
        "outputId": "a7676411-f029-4d1c-ea2c-133a91f0f7cc"
      },
      "outputs": [],
      "source": [
        "result(X_train3, X_test3, Y_train3, Y_test3)"
      ]
    },
    {
      "cell_type": "code",
      "execution_count": null,
      "metadata": {
        "colab": {
          "base_uri": "https://localhost:8080/"
        },
        "id": "fJLEPQK7ueXp",
        "outputId": "72fec6b5-363a-41b6-cba7-77c63db2c33f"
      },
      "outputs": [],
      "source": [
        "result(X_train4, X_test4, Y_train4, Y_test4)\n"
      ]
    },
    {
      "cell_type": "code",
      "execution_count": null,
      "metadata": {
        "colab": {
          "base_uri": "https://localhost:8080/"
        },
        "id": "mmJ22qhVvNwj",
        "outputId": "de254f08-5bc1-4fa8-c06f-2a021edc3e44"
      },
      "outputs": [],
      "source": [
        "result(X_train5, X_test5, Y_train5, Y_test5)\n"
      ]
    },
    {
      "cell_type": "code",
      "execution_count": null,
      "metadata": {
        "colab": {
          "base_uri": "https://localhost:8080/"
        },
        "id": "JR-CWPa2E90o",
        "outputId": "ade62243-ce04-40d0-ec06-fb3d3e205f8c"
      },
      "outputs": [],
      "source": [
        "result(X_train6, X_test6, Y_train6, Y_test6)"
      ]
    }
  ],
  "metadata": {
    "colab": {
      "provenance": []
    },
    "kernelspec": {
      "display_name": "Python 3",
      "name": "python3"
    },
    "language_info": {
      "codemirror_mode": {
        "name": "ipython",
        "version": 3
      },
      "file_extension": ".py",
      "mimetype": "text/x-python",
      "name": "python",
      "nbconvert_exporter": "python",
      "pygments_lexer": "ipython3",
      "version": "3.11.0"
    }
  },
  "nbformat": 4,
  "nbformat_minor": 0
}
